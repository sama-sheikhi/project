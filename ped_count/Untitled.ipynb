{
 "cells": [
  {
   "cell_type": "code",
   "execution_count": 1,
   "id": "d273e43e-c8a6-4629-a5c0-ba602975791a",
   "metadata": {},
   "outputs": [
    {
     "name": "stdout",
     "output_type": "stream",
     "text": [
      "/Library/Frameworks/Python.framework/Versions/3.12/Resources/Python.app/Contents/MacOS/Python: can't open file '/Users/sama/Desktop/project/ped_count/main.py': [Errno 2] No such file or directory\n"
     ]
    }
   ],
   "source": [
    "!python3 main.py\n"
   ]
  },
  {
   "cell_type": "code",
   "execution_count": 2,
   "id": "b3374160-16c4-4a04-9374-ef7982a7230a",
   "metadata": {},
   "outputs": [
    {
     "name": "stdout",
     "output_type": "stream",
     "text": [
      "/Users/sama/Desktop\n"
     ]
    }
   ],
   "source": [
    "cd ~/Desktop"
   ]
  },
  {
   "cell_type": "code",
   "execution_count": 3,
   "id": "ce19a3af-b067-4ac3-8281-49cffaf0e938",
   "metadata": {},
   "outputs": [
    {
     "name": "stdout",
     "output_type": "stream",
     "text": [
      "/Users/sama/Desktop/project\n"
     ]
    }
   ],
   "source": [
    "cd project"
   ]
  },
  {
   "cell_type": "code",
   "execution_count": 12,
   "id": "160e831d-a7c1-4e00-904d-9fbbc5444127",
   "metadata": {},
   "outputs": [
    {
     "name": "stdout",
     "output_type": "stream",
     "text": [
      "ID               0\n",
      "Date_Time        0\n",
      "Year             0\n",
      "Month            0\n",
      "Mdate            0\n",
      "Day              0\n",
      "Time             0\n",
      "Sensor_ID        0\n",
      "Sensor_Name      0\n",
      "Hourly_Counts    0\n",
      "total_count      0\n",
      "Month_num        0\n",
      "Day_num          0\n",
      "dtype: int64\n",
      "Quantitative: ['Year', 'Month_num', 'Mdate', 'Day_num', 'Time', 'total_count']\n",
      "Qualitative: []\n",
      "/Users/sama/PycharmProjects/session9/.venv/lib/python3.12/site-packages/scipy/stats/_continuous_distns.py:6930: RuntimeWarning: overflow encountered in divide\n",
      "  return np.sum((1 + np.log(shifted/scale)/shape**2)/shifted)\n",
      "/Users/sama/PycharmProjects/session9/.venv/lib/python3.12/site-packages/numpy/_core/fromnumeric.py:86: RuntimeWarning: overflow encountered in reduce\n",
      "  return ufunc.reduce(obj, axis, dtype, out, **passkwargs)\n",
      "Year           True\n",
      "Month_num      True\n",
      "Mdate          True\n",
      "Day_num        True\n",
      "Time           True\n",
      "total_count    True\n",
      "dtype: bool\n",
      "False\n",
      "MAE: 443.71\n",
      "RMSE: 813.83\n",
      "R2: -0.42\n",
      "R2 (Random Forest): 0.6688921663122079\n",
      "Gradient Boosting:\n",
      "MAE: 238.46\n",
      "RMSE: 381.00\n",
      "R2: 0.69\n"
     ]
    }
   ],
   "source": [
    "!python3 main.py"
   ]
  },
  {
   "cell_type": "code",
   "execution_count": null,
   "id": "a1f8628f-bf2e-4874-826c-854ab47bc5c0",
   "metadata": {},
   "outputs": [],
   "source": []
  }
 ],
 "metadata": {
  "kernelspec": {
   "display_name": "Python 3 (ipykernel)",
   "language": "python",
   "name": "python3"
  },
  "language_info": {
   "codemirror_mode": {
    "name": "ipython",
    "version": 3
   },
   "file_extension": ".py",
   "mimetype": "text/x-python",
   "name": "python",
   "nbconvert_exporter": "python",
   "pygments_lexer": "ipython3",
   "version": "3.12.3"
  }
 },
 "nbformat": 4,
 "nbformat_minor": 5
}
